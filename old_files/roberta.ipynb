{
 "cells": [
  {
   "cell_type": "code",
   "execution_count": 15,
   "metadata": {},
   "outputs": [],
   "source": [
    "import pandas as pd\n",
    "from sklearn.model_selection import train_test_split\n",
    "from torch.utils.data import DataLoader, TensorDataset\n",
    "from transformers import RobertaTokenizer, RobertaForSequenceClassification, AdamW\n",
    "import torch\n",
    "from sklearn.metrics import accuracy_score, confusion_matrix\n",
    "import matplotlib.pyplot as plt\n",
    "import seaborn as sns\n"
   ]
  },
  {
   "cell_type": "code",
   "execution_count": 16,
   "metadata": {},
   "outputs": [
    {
     "name": "stdout",
     "output_type": "stream",
     "text": [
      "True\n"
     ]
    }
   ],
   "source": [
    "print(torch.cuda.is_available())\n"
   ]
  },
  {
   "cell_type": "code",
   "execution_count": 17,
   "metadata": {},
   "outputs": [
    {
     "name": "stdout",
     "output_type": "stream",
     "text": [
      "Using device: cuda\n"
     ]
    }
   ],
   "source": [
    "# Проверяем доступность GPU\n",
    "device = torch.device(\"cuda\" if torch.cuda.is_available() else \"cpu\")\n",
    "print(f\"Using device: {device}\")"
   ]
  },
  {
   "cell_type": "code",
   "execution_count": 18,
   "metadata": {},
   "outputs": [],
   "source": [
    "# Загрузка данных из CSV-файла\n",
    "df = pd.read_csv('ready_data.csv')  # Замените 'your_dataset.csv' на путь к вашему файлу CSV\n",
    "\n",
    "# Разделение данных на обучающий и тестовый наборы\n",
    "train_df, test_df = train_test_split(df, test_size=0.2, random_state=42)\n",
    "\n",
    "# Подготовка текстов и меток\n",
    "train_texts, train_labels = train_df['text'].tolist(), train_df['category_num'].tolist()\n",
    "test_texts, test_labels = test_df['text'].tolist(), test_df['category_num'].tolist()\n"
   ]
  },
  {
   "cell_type": "code",
   "execution_count": 19,
   "metadata": {},
   "outputs": [
    {
     "name": "stderr",
     "output_type": "stream",
     "text": [
      "Some weights of RobertaForSequenceClassification were not initialized from the model checkpoint at roberta-base and are newly initialized: ['classifier.dense.weight', 'classifier.out_proj.bias', 'classifier.dense.bias', 'classifier.out_proj.weight']\n",
      "You should probably TRAIN this model on a down-stream task to be able to use it for predictions and inference.\n",
      "c:\\Users\\Zubr\\AppData\\Local\\Programs\\Python\\Python311\\Lib\\site-packages\\transformers\\optimization.py:429: FutureWarning: This implementation of AdamW is deprecated and will be removed in a future version. Use the PyTorch implementation torch.optim.AdamW instead, or set `no_deprecation_warning=True` to disable this warning\n",
      "  warnings.warn(\n"
     ]
    }
   ],
   "source": [
    "# Инициализация токенизатора и преобразование текста в токены\n",
    "tokenizer = RobertaTokenizer.from_pretrained('roberta-base')\n",
    "train_encodings = tokenizer(train_texts, truncation=True, padding=True, max_length=128, return_tensors='pt')\n",
    "test_encodings = tokenizer(test_texts, truncation=True, padding=True, max_length=128, return_tensors='pt')\n",
    "\n",
    "# Преобразование меток в тензоры\n",
    "train_labels = torch.tensor(train_labels)\n",
    "test_labels = torch.tensor(test_labels)\n",
    "\n",
    "# Перемещение данных на GPU\n",
    "train_encodings = {key: value.to(device) for key, value in train_encodings.items()}\n",
    "test_encodings = {key: value.to(device) for key, value in test_encodings.items()}\n",
    "train_labels = train_labels.to(device)\n",
    "test_labels = test_labels.to(device)\n",
    "\n",
    "# Создание DataLoader для обучения и тестирования\n",
    "train_dataset = TensorDataset(train_encodings['input_ids'], train_encodings['attention_mask'], train_labels)\n",
    "test_dataset = TensorDataset(test_encodings['input_ids'], test_encodings['attention_mask'], test_labels)\n",
    "\n",
    "train_loader = DataLoader(train_dataset, batch_size=8, shuffle=True)\n",
    "test_loader = DataLoader(test_dataset, batch_size=8, shuffle=False)\n",
    "\n",
    "# Инициализация модели RoBERTa для классификации на GPU\n",
    "num_classes = 2  # Замените 2 на количество классов в вашем наборе данных\n",
    "model = RobertaForSequenceClassification.from_pretrained('roberta-base', num_labels=num_classes)\n",
    "model.to(device)\n",
    "\n",
    "# Инициализация оптимизатора\n",
    "optimizer = AdamW(model.parameters(), lr=5e-5)\n"
   ]
  },
  {
   "cell_type": "code",
   "execution_count": 20,
   "metadata": {},
   "outputs": [
    {
     "name": "stdout",
     "output_type": "stream",
     "text": [
      "Epoch 1, Loss: 0.6959, Accuracy: 0.4750\n",
      "Test Accuracy: 0.6000\n",
      "Epoch 2, Loss: 0.5270, Accuracy: 0.7000\n",
      "Test Accuracy: 0.8000\n",
      "Epoch 3, Loss: 0.5107, Accuracy: 0.7250\n",
      "Test Accuracy: 0.9000\n",
      "Epoch 4, Loss: 0.4046, Accuracy: 0.8000\n",
      "Test Accuracy: 0.8000\n",
      "Epoch 5, Loss: 0.2986, Accuracy: 0.7750\n",
      "Test Accuracy: 0.8000\n",
      "Epoch 6, Loss: 0.2181, Accuracy: 0.8500\n",
      "Test Accuracy: 0.9000\n",
      "Epoch 7, Loss: 0.1253, Accuracy: 0.8750\n",
      "Test Accuracy: 0.8000\n",
      "Epoch 8, Loss: 0.0302, Accuracy: 0.9250\n",
      "Test Accuracy: 0.8000\n",
      "Epoch 9, Loss: 0.0812, Accuracy: 0.9000\n",
      "Test Accuracy: 0.9000\n",
      "Epoch 10, Loss: 0.0818, Accuracy: 0.8750\n",
      "Test Accuracy: 0.9000\n",
      "Epoch 11, Loss: 0.0578, Accuracy: 0.9000\n",
      "Test Accuracy: 0.8000\n",
      "Epoch 12, Loss: 0.0459, Accuracy: 0.9250\n",
      "Test Accuracy: 0.9000\n",
      "Epoch 13, Loss: 0.0087, Accuracy: 0.9250\n",
      "Test Accuracy: 0.8000\n",
      "Epoch 14, Loss: 0.0032, Accuracy: 0.9250\n",
      "Test Accuracy: 0.8000\n",
      "Epoch 15, Loss: 0.1147, Accuracy: 0.9000\n",
      "Test Accuracy: 0.9000\n"
     ]
    }
   ],
   "source": [
    "# Обучение модели на GPU\n",
    "num_epochs = 15\n",
    "\n",
    "for epoch in range(num_epochs):\n",
    "    model.train()\n",
    "    total_loss = 0.0\n",
    "    correct_predictions = 0\n",
    "    total_batches = 0\n",
    "\n",
    "    for batch_num, batch in enumerate(train_loader, 1):\n",
    "        inputs = {'input_ids': batch[0], 'attention_mask': batch[1], 'labels': batch[2]}\n",
    "        inputs = {key: value.to(device) for key, value in inputs.items()}  # Перемещаем данные на GPU\n",
    "        optimizer.zero_grad()\n",
    "        outputs = model(**inputs)\n",
    "        loss = outputs.loss\n",
    "        loss.backward()\n",
    "        optimizer.step()\n",
    "\n",
    "        # Считаем общую потерю\n",
    "        total_loss += loss.item()\n",
    "\n",
    "        # Считаем количество правильных предсказаний\n",
    "        logits = outputs.logits\n",
    "        predictions = torch.argmax(logits, dim=1)\n",
    "        correct_predictions += torch.sum(predictions == batch[2]).item()\n",
    "\n",
    "        # Выводим лог каждые, например, 10 батчей\n",
    "        if batch_num % 10 == 0:\n",
    "            avg_loss = total_loss / batch_num\n",
    "            accuracy = correct_predictions / (batch_num * train_loader.batch_size)\n",
    "            print(f'Epoch {epoch + 1}, Batch {batch_num}/{len(train_loader)}, Loss: {avg_loss:.4f}, Accuracy: {accuracy:.4f}')\n",
    "\n",
    "    # Выводим лог в конце каждой эпохи\n",
    "    avg_loss = total_loss / len(train_loader)\n",
    "    accuracy = correct_predictions / (len(train_loader) * train_loader.batch_size)\n",
    "    print(f'Epoch {epoch + 1}, Loss: {avg_loss:.4f}, Accuracy: {accuracy:.4f}')\n",
    "\n",
    "    # Проверка точности на тестовом наборе\n",
    "    model.eval()\n",
    "    all_preds = []\n",
    "    with torch.no_grad():\n",
    "        for test_batch in test_loader:\n",
    "            test_inputs = {'input_ids': test_batch[0].to(device), 'attention_mask': test_batch[1].to(device)}\n",
    "            test_outputs = model(**test_inputs)\n",
    "            test_logits = test_outputs.logits\n",
    "            test_preds = torch.argmax(test_logits, dim=1)\n",
    "            all_preds.extend(test_preds.cpu().numpy())\n",
    "\n",
    "    # Вычисление и вывод точности на тестовом наборе\n",
    "    test_accuracy = accuracy_score(test_labels.cpu().numpy(), all_preds)\n",
    "    print(f'Test Accuracy: {test_accuracy:.4f}')"
   ]
  },
  {
   "cell_type": "code",
   "execution_count": 23,
   "metadata": {},
   "outputs": [
    {
     "data": {
      "image/png": "[encoded data removed]",
      "text/plain": [
       "<Figure size 800x600 with 2 Axes>"
      ]
     },
     "metadata": {},
     "output_type": "display_data"
    }
   ],
   "source": [
    "# Вычисление матрицы ошибок\n",
    "cm = confusion_matrix(test_labels.cpu().numpy(), all_preds)\n",
    "\n",
    "# Визуализация матрицы ошибок\n",
    "plt.figure(figsize=(8, 6))\n",
    "sns.heatmap(cm, annot=True, fmt='d', cmap='Blues')\n",
    "plt.xlabel('Predicted Labels')\n",
    "plt.ylabel('True Labels')\n",
    "plt.title('Confusion Matrix')\n",
    "plt.show()"
   ]
  },
  {
   "cell_type": "code",
   "execution_count": 22,
   "metadata": {},
   "outputs": [
    {
     "data": {
      "text/plain": [
       "('roberta_classification_model\\\\tokenizer_config.json',\n",
       " 'roberta_classification_model\\\\special_tokens_map.json',\n",
       " 'roberta_classification_model\\\\vocab.json',\n",
       " 'roberta_classification_model\\\\merges.txt',\n",
       " 'roberta_classification_model\\\\added_tokens.json')"
      ]
     },
     "execution_count": 22,
     "metadata": {},
     "output_type": "execute_result"
    }
   ],
   "source": [
    "# Сохранение модели\n",
    "model.save_pretrained('roberta_classification_model')\n",
    "\n",
    "# Сохранение токенизатора\n",
    "tokenizer.save_pretrained('roberta_classification_model')"
   ]
  }
 ],
 "metadata": {
  "kernelspec": {
   "display_name": "Python 3",
   "language": "python",
   "name": "python3"
  },
  "language_info": {
   "codemirror_mode": {
    "name": "ipython",
    "version": 3
   },
   "file_extension": ".py",
   "mimetype": "text/x-python",
   "name": "python",
   "nbconvert_exporter": "python",
   "pygments_lexer": "ipython3",
   "version": "3.11.8"
  }
 },
 "nbformat": 4,
 "nbformat_minor": 2
}
